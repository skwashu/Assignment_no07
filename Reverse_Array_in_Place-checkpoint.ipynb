{
 "cells": [
  {
   "cell_type": "code",
   "execution_count": null,
   "id": "5f09b452",
   "metadata": {},
   "outputs": [],
   "source": [
    "# Write a program to reverse an array in place? In place means you cannot create a new array. You have to update the original array\n",
    "\n",
    "def reverse_array(arr):\n",
    "    # get the length of the array\n",
    "    n = len(arr)\n",
    "    \n",
    "    # iterate over the first half of the array\n",
    "    for i in range(n // 2):\n",
    "        # swap the current element with its corresponding element from the end of the array\n",
    "        arr[i], arr[n - i - 1] = arr[n - i - 1], arr[i]\n",
    "        \n",
    "    # return the reversed array (although this step is not strictly necessary)\n",
    "    return arr\n",
    "my_array = [1, 2, 3, 4, 5]\n",
    "reverse_array(my_array)\n",
    "print(my_array)  # prints [5, 4, 3, 2, 1]\n"
   ]
  }
 ],
 "metadata": {
  "kernelspec": {
   "display_name": "Python 3 (ipykernel)",
   "language": "python",
   "name": "python3"
  },
  "language_info": {
   "codemirror_mode": {
    "name": "ipython",
    "version": 3
   },
   "file_extension": ".py",
   "mimetype": "text/x-python",
   "name": "python",
   "nbconvert_exporter": "python",
   "pygments_lexer": "ipython3",
   "version": "3.10.9"
  }
 },
 "nbformat": 4,
 "nbformat_minor": 5
}
