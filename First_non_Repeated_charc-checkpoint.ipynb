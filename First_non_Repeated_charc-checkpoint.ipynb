{
 "cells": [
  {
   "cell_type": "code",
   "execution_count": null,
   "id": "c9e2b4b2",
   "metadata": {},
   "outputs": [],
   "source": [
    "def first_non_repeated_char(string):\n",
    "    \n",
    "    \n",
    "    char_count = {}  # Create an empty dictionary to store the count of each character in the string.\n",
    "\n",
    "    for char in string:\n",
    "        if char in char_count:\n",
    "            char_count[char] += 1\n",
    "        else:\n",
    "            char_count[char] = 1\n",
    "\n",
    "   \n",
    "    for char, count in char_count.items():\n",
    "        if count == 1:\n",
    "            return char\n",
    "\n",
    "    return None\n",
    "\n",
    "string = \"hello world\"\n",
    "result = first_non_repeated_char(string)\n",
    "print(result)  # Output: 'h'\n"
   ]
  }
 ],
 "metadata": {
  "kernelspec": {
   "display_name": "Python 3 (ipykernel)",
   "language": "python",
   "name": "python3"
  },
  "language_info": {
   "codemirror_mode": {
    "name": "ipython",
    "version": 3
   },
   "file_extension": ".py",
   "mimetype": "text/x-python",
   "name": "python",
   "nbconvert_exporter": "python",
   "pygments_lexer": "ipython3",
   "version": "3.10.9"
  }
 },
 "nbformat": 4,
 "nbformat_minor": 5
}
