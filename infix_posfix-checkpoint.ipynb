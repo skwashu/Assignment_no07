{
 "cells": [
  {
   "cell_type": "code",
   "execution_count": null,
   "id": "ddb5a82d",
   "metadata": {},
   "outputs": [],
   "source": [
    "def postfix_to_prefix(expression):\n",
    "    stack = []\n",
    "    operators = set(['+', '-', '*', '/', '^'])\n",
    "\n",
    "    for i in expression:\n",
    "        if i not in operators:\n",
    "            stack.append(i)\n",
    "        else:\n",
    "            operand1 = stack.pop()\n",
    "            operand2 = stack.pop()\n",
    "            prefix_expression = i + operand2 + operand1\n",
    "            stack.append(prefix_expression)\n",
    "\n",
    "    return stack.pop()\n",
    "\n",
    "# Example usage\n",
    "postfix_expression = \"23+4*\"\n",
    "prefix_expression = postfix_to_prefix(postfix_expression)\n",
    "print(\"Prefix expression:\", prefix_expression)\n"
   ]
  }
 ],
 "metadata": {
  "kernelspec": {
   "display_name": "Python 3 (ipykernel)",
   "language": "python",
   "name": "python3"
  },
  "language_info": {
   "codemirror_mode": {
    "name": "ipython",
    "version": 3
   },
   "file_extension": ".py",
   "mimetype": "text/x-python",
   "name": "python",
   "nbconvert_exporter": "python",
   "pygments_lexer": "ipython3",
   "version": "3.10.9"
  }
 },
 "nbformat": 4,
 "nbformat_minor": 5
}
