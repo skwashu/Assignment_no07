{
 "cells": [
  {
   "cell_type": "code",
   "execution_count": null,
   "id": "d4d09b7a",
   "metadata": {},
   "outputs": [],
   "source": [
    "def tower_of_hanoi(n, source, target, auxiliary):\n",
    "    if n == 1:\n",
    "        print(\"Move disk 1 from {} to {}\".format(source, target))\n",
    "        return\n",
    "    tower_of_hanoi(n-1, source, auxiliary, target)\n",
    "    print(\"Move disk {} from {} to {}\".format(n, source, target))\n",
    "    tower_of_hanoi(n-1, auxiliary, target, source)\n",
    "\n",
    "# Example usage\n",
    "tower_of_hanoi(3, \"A\", \"C\", \"B\")\n"
   ]
  }
 ],
 "metadata": {
  "kernelspec": {
   "display_name": "Python 3 (ipykernel)",
   "language": "python",
   "name": "python3"
  },
  "language_info": {
   "codemirror_mode": {
    "name": "ipython",
    "version": 3
   },
   "file_extension": ".py",
   "mimetype": "text/x-python",
   "name": "python",
   "nbconvert_exporter": "python",
   "pygments_lexer": "ipython3",
   "version": "3.10.9"
  }
 },
 "nbformat": 4,
 "nbformat_minor": 5
}
