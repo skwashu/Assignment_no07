{
 "cells": [
  {
   "cell_type": "code",
   "execution_count": null,
   "id": "f250ed16",
   "metadata": {},
   "outputs": [],
   "source": [
    "# Function to check if a character is an operator\n",
    "def is_operator(c):\n",
    "    if c == '+' or c == '-' or c == '*' or c == '/':\n",
    "        return True\n",
    "    return False\n",
    " \n",
    "# Function to convert prefix expression to infix expression\n",
    "def prefix_to_infix(expression):\n",
    "    stack = []\n",
    "    # Read the expression in reverse order\n",
    "    for i in range(len(expression)-1, -1, -1):\n",
    "        # If the character is an operator\n",
    "        if is_operator(expression[i]):\n",
    "            # Pop two operands from the stack\n",
    "            operand1 = stack.pop()\n",
    "            operand2 = stack.pop()\n",
    "            # Create a string for the infix expression\n",
    "            infix = '(' + operand1 + expression[i] + operand2 + ')'\n",
    "            # Push the infix expression onto the stack\n",
    "            stack.append(infix)\n",
    "        else:\n",
    "            # If the character is an operand, push it onto the stack\n",
    "            stack.append(expression[i])\n",
    "    # The final expression will be on the top of the stack\n",
    "    return stack.pop()\n",
    "\n",
    "# Test the function\n",
    "prefix_expression = \"*+AB-CD\"\n",
    "infix_expression = prefix_to_infix(prefix_expression)\n",
    "print(\"Prefix expression:\", prefix_expression)\n",
    "print(\"Infix expression:\", infix_expression)\n"
   ]
  }
 ],
 "metadata": {
  "kernelspec": {
   "display_name": "Python 3 (ipykernel)",
   "language": "python",
   "name": "python3"
  },
  "language_info": {
   "codemirror_mode": {
    "name": "ipython",
    "version": 3
   },
   "file_extension": ".py",
   "mimetype": "text/x-python",
   "name": "python",
   "nbconvert_exporter": "python",
   "pygments_lexer": "ipython3",
   "version": "3.10.9"
  }
 },
 "nbformat": 4,
 "nbformat_minor": 5
}
