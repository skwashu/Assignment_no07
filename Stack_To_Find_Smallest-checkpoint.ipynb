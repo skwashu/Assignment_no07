{
 "cells": [
  {
   "cell_type": "code",
   "execution_count": null,
   "id": "2634c799",
   "metadata": {},
   "outputs": [],
   "source": [
    "class Stack:\n",
    "    def __init__(self):\n",
    "        self.stack = []\n",
    "        self.min_stack = []\n",
    "\n",
    "    def push(self, x):\n",
    "        self.stack.append(x)\n",
    "        if not self.min_stack or x <= self.min_stack[-1]:\n",
    "            self.min_stack.append(x)\n",
    "\n",
    "    def pop(self):\n",
    "        if self.stack:\n",
    "            if self.stack[-1] == self.min_stack[-1]:\n",
    "                self.min_stack.pop()\n",
    "            return self.stack.pop()\n",
    "\n",
    "    def get_min(self):\n",
    "        if self.min_stack:\n",
    "            return self.min_stack[-1]\n",
    "\n",
    "if __name__ == '__main__':\n",
    "    s = Stack()\n",
    "    s.push(3)\n",
    "    s.push(2)\n",
    "    s.push(1)\n",
    "    print(s.get_min()) \n",
    "    \n",
    "    # output: 1\n"
   ]
  }
 ],
 "metadata": {
  "kernelspec": {
   "display_name": "Python 3 (ipykernel)",
   "language": "python",
   "name": "python3"
  },
  "language_info": {
   "codemirror_mode": {
    "name": "ipython",
    "version": 3
   },
   "file_extension": ".py",
   "mimetype": "text/x-python",
   "name": "python",
   "nbconvert_exporter": "python",
   "pygments_lexer": "ipython3",
   "version": "3.10.9"
  }
 },
 "nbformat": 4,
 "nbformat_minor": 5
}
