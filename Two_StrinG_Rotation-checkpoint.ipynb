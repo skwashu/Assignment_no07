{
 "cells": [
  {
   "cell_type": "code",
   "execution_count": 1,
   "id": "f43a8223",
   "metadata": {},
   "outputs": [
    {
     "name": "stdout",
     "output_type": "stream",
     "text": [
      "s2 is a rotation of s1\n"
     ]
    }
   ],
   "source": [
    "def is_rotation(s1, s2):\n",
    "    # check if s1 and s2 are of the same length\n",
    "    if len(s1) != len(s2):\n",
    "        return False\n",
    "    \n",
    "    # concatenate s1 with itself and check if s2 is a substring of the result\n",
    "    s1s1 = s1 + s1\n",
    "    if s2 in s1s1:\n",
    "        return True\n",
    "    else:\n",
    "        return False\n",
    "\n",
    "s1 = \"hello\"\n",
    "s2 = \"lohel\"\n",
    "if is_rotation(s1, s2):\n",
    "    print(\"s2 is a rotation of s1\")\n",
    "else:\n",
    "    print(\"s2 is not a rotation of s1\")"
   ]
  },
  {
   "cell_type": "code",
   "execution_count": null,
   "id": "e5bd5708",
   "metadata": {},
   "outputs": [],
   "source": []
  }
 ],
 "metadata": {
  "kernelspec": {
   "display_name": "Python 3 (ipykernel)",
   "language": "python",
   "name": "python3"
  },
  "language_info": {
   "codemirror_mode": {
    "name": "ipython",
    "version": 3
   },
   "file_extension": ".py",
   "mimetype": "text/x-python",
   "name": "python",
   "nbconvert_exporter": "python",
   "pygments_lexer": "ipython3",
   "version": "3.10.9"
  }
 },
 "nbformat": 4,
 "nbformat_minor": 5
}
