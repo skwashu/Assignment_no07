{
 "cells": [
  {
   "cell_type": "code",
   "execution_count": 1,
   "id": "17d8edab",
   "metadata": {},
   "outputs": [
    {
     "name": "stdout",
     "output_type": "stream",
     "text": [
      "All brackets are closed.\n"
     ]
    }
   ],
   "source": [
    "def check_brackets(code_snippet):\n",
    "    \"\"\"\n",
    "    Checks if all brackets in a given code snippet are closed.\n",
    "    \"\"\"\n",
    "    stack = []\n",
    "    for char in code_snippet:\n",
    "        if char in (\"(\", \"[\", \"{\"):\n",
    "            stack.append(char)\n",
    "        elif char in (\")\", \"]\", \"}\"):\n",
    "            if not stack:\n",
    "                return False\n",
    "            elif char == \")\" and stack[-1] == \"(\":\n",
    "                stack.pop()\n",
    "            elif char == \"]\" and stack[-1] == \"[\":\n",
    "                stack.pop()\n",
    "            elif char == \"}\" and stack[-1] == \"{\":\n",
    "                stack.pop()\n",
    "            else:\n",
    "                return False\n",
    "    return not stack\n",
    "\n",
    "# Example usage\n",
    "code_snippet = \"{(a+b)*(c-d)}\"\n",
    "if check_brackets(code_snippet):\n",
    "    print(\"All brackets are closed.\")\n",
    "else:\n",
    "    print(\"There are unclosed brackets.\")\n"
   ]
  },
  {
   "cell_type": "code",
   "execution_count": null,
   "id": "5f6c6f49",
   "metadata": {},
   "outputs": [],
   "source": []
  }
 ],
 "metadata": {
  "kernelspec": {
   "display_name": "Python 3 (ipykernel)",
   "language": "python",
   "name": "python3"
  },
  "language_info": {
   "codemirror_mode": {
    "name": "ipython",
    "version": 3
   },
   "file_extension": ".py",
   "mimetype": "text/x-python",
   "name": "python",
   "nbconvert_exporter": "python",
   "pygments_lexer": "ipython3",
   "version": "3.10.9"
  }
 },
 "nbformat": 4,
 "nbformat_minor": 5
}
